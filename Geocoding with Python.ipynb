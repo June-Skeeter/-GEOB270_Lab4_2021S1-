{
 "cells": [
  {
   "cell_type": "markdown",
   "metadata": {},
   "source": [
    "## Step 1)\n",
    "\n",
    "Import the necessary packages and read the data file. \n"
   ]
  },
  {
   "cell_type": "code",
   "execution_count": null,
   "metadata": {
    "scrolled": false
   },
   "outputs": [],
   "source": [
    "# The import command allows us to call on various libraries\n",
    "import folium\n",
    "import numpy as np\n",
    "import pandas as pd\n",
    "import geopandas as gpd\n",
    "from geopy.geocoders import MapBox\n",
    "import matplotlib.pyplot as plt\n",
    "# You need this to query mapbox\n",
    "api_key=\"\"\n",
    "\n",
    "if api_key == \"\":\n",
    "    print('Please enter your API key to continue!')\n",
    "else:\n",
    "    BC_Data = pd.read_csv('Data/BC_Data_5yrs.csv',index_col='id_victim',parse_dates=['date'])\n",
    "BC_Data.head()"
   ]
  },
  {
   "cell_type": "markdown",
   "metadata": {},
   "source": [
    "## Step 2)\n",
    "\n",
    "Inspect the data.  1) Get the count of the total number of records. 2) Aggregate the data by department and sort it.\n",
    "\n",
    "### Question 1)\n",
    "How many incidents are there in the datasets?\n",
    "<!-- 147 -->\n",
    "\n",
    "### Question 2)\n",
    "What do the total incidents by department tell us about the nature of police violence in British Columbia?"
   ]
  },
  {
   "cell_type": "code",
   "execution_count": null,
   "metadata": {
    "scrolled": false
   },
   "outputs": [],
   "source": [
    "print('Total Incidents')\n",
    "print(BC_Data.count()['date'])\n",
    "print()\n",
    "\n",
    "print('Total incidents by department')\n",
    "print(BC_Data.groupby('department').count()['date'].sort_values(ascending=False))\n",
    "print()\n"
   ]
  },
  {
   "cell_type": "markdown",
   "metadata": {},
   "source": [
    "## Step 3)\n",
    "\n",
    "Aggregate the data by cause of death and plot it.\n",
    "\n",
    "### Question 3)\n",
    "What is the most common cause of death during an interaction with police?  What information can you draw from this chart?"
   ]
  },
  {
   "cell_type": "code",
   "execution_count": null,
   "metadata": {},
   "outputs": [],
   "source": [
    "Deaths = BC_Data.groupby(['cause_death']).count()['date'].sort_values()\n",
    "fig,ax=plt.subplots(figsize=(7,7))\n",
    "ax.pie(\n",
    "    Deaths,#['date'],\n",
    "    labels=Deaths.index,\n",
    "    textprops={'fontsize': 10},\n",
    "#     colors=[Pie_Colors[i] for i in Armed.index],\n",
    "    autopct='%1.1f%%',\n",
    "    wedgeprops={\"edgecolor\":\"k\",'linewidth': 1,\n",
    "                'linestyle': 'dashed',\n",
    "               }\n",
    ")\n",
    "ax.set_title('What is the cause of death?')\n",
    "plt.tight_layout()"
   ]
  },
  {
   "cell_type": "markdown",
   "metadata": {},
   "source": [
    "## Step 4)\n",
    "\n",
    "Geocode the addresses.\n",
    "\n",
    "### Question 4)\n",
    "Did the geocoder fail to recognize any of the locations?"
   ]
  },
  {
   "cell_type": "code",
   "execution_count": null,
   "metadata": {
    "scrolled": true
   },
   "outputs": [],
   "source": [
    "BC_Data['latitude'] = np.nan\n",
    "BC_Data['longitude'] = np.nan\n",
    "BC_Data['geocoding_Notes'] = ''\n",
    "\n",
    "geolocator = MapBox(api_key=api_key)\n",
    "\n",
    "i = 0\n",
    "for index, row in BC_Data.iterrows():\n",
    "    attempt = ' '.join([row['address_intersection'], row['city_town'], row['prov'], row['postal_code'],'Canada'])\n",
    "    try:\n",
    "        g = geolocator.geocode(attempt,timeout=3)\n",
    "        BC_Data.loc[BC_Data.index==index,['latitude','longitude']]=g.latitude,g.longitude\n",
    "    except:\n",
    "        Police_Killings.loc[Police_Killings['postal_code']==row['postal_code'],'geocoding_Notes']='Geocoding Failed'\n",
    "        pass\n",
    "    i += 1\n",
    "save_to = 'Data/BC_Geocoded.csv'\n",
    "BC_Data.to_csv(save_to)\n",
    "\n",
    "Failures = BC_Data.loc[BC_Data['geocoding_Notes']=='Geocoding Failed']\n",
    "print('Filed to Geocode: ',Failures.count()['date'], ' records.')\n",
    "print('Geocoding Done')\n",
    "print('File saved to: ',save_to)"
   ]
  },
  {
   "cell_type": "markdown",
   "metadata": {},
   "source": [
    "## Step 5)\n",
    "\n",
    "Inspect the results.  Create a web map to display the points.\n",
    "\n",
    "### Question 5)\n",
    "What spatial patterns stand out in the data set to you?\n",
    "\n",
    "### Question 6)\n",
    "Change the 'fill_color' parameter to 'red'.  Zoom to any specific area/region of interest (eg. Metro Vancouver, Northern BC, etc.).  Take a screenshot and submit it on canvas."
   ]
  },
  {
   "cell_type": "code",
   "execution_count": null,
   "metadata": {},
   "outputs": [],
   "source": [
    "# Create a webmap centered on BC at zoom level 5 with a simple black/white map tile   \n",
    "Map = folium.Map(location=[53, -125],zoom_start=5,tiles='Stamen Toner')\n",
    "\n",
    "# loop through all records and plot them\n",
    "for index, row in BC_Data.iterrows():\n",
    "    # Cricle marker takes multiple arguments [latitude and longitude] are required.\n",
    "    # The others are optoional for styling our map\n",
    "    folium.CircleMarker(location=[row['latitude'],row['longitude']],\n",
    "                        # Popup text to appear on click\n",
    "                        popup=row['address_intersection']+' '+row['city_town'],\n",
    "                        # fill color for circle\n",
    "                        fill_color='blue',\n",
    "                        # outline clor for circle\n",
    "                        color='black'\n",
    "                       ).add_to(Map)\n",
    "    \n",
    "Map.save('Data/PoliceViolenceIncidents_BC.html')\n",
    "# print('Map Saved!')\n",
    "    \n",
    "# Display the map\n",
    "Map"
   ]
  },
  {
   "cell_type": "code",
   "execution_count": null,
   "metadata": {},
   "outputs": [],
   "source": []
  }
 ],
 "metadata": {
  "kernelspec": {
   "display_name": "geo-env",
   "language": "python",
   "name": "geo-env"
  },
  "language_info": {
   "codemirror_mode": {
    "name": "ipython",
    "version": 3
   },
   "file_extension": ".py",
   "mimetype": "text/x-python",
   "name": "python",
   "nbconvert_exporter": "python",
   "pygments_lexer": "ipython3",
   "version": "3.8.10"
  }
 },
 "nbformat": 4,
 "nbformat_minor": 4
}
