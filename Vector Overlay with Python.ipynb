{
 "cells": [
  {
   "cell_type": "markdown",
   "metadata": {},
   "source": [
    "## Step 1)\n",
    "\n",
    "Import the necessary packages."
   ]
  },
  {
   "cell_type": "code",
   "execution_count": null,
   "metadata": {
    "scrolled": false
   },
   "outputs": [],
   "source": [
    "# The import command allows us to call on various libraries\n",
    "import folium\n",
    "import numpy as np\n",
    "import pandas as pd\n",
    "import geopandas as gpd\n",
    "import matplotlib.pyplot as plt\n",
    "from pyproj import CRS\n",
    "%matplotlib notebook\n",
    "\n",
    "print('Packages Loaded')"
   ]
  },
  {
   "cell_type": "markdown",
   "metadata": {},
   "source": [
    "## Step 2)\n",
    "\n",
    "Read the data geocoded text file and covert it to a spatial data format.  This step is equivalent to \"display xy data\" in ArcGIS Pro.  Then we can quickly plot the data to make sure it imported properly.\n",
    "\n",
    "### Question 7)\n",
    "What do the X & Y axes on the plot represent?"
   ]
  },
  {
   "cell_type": "code",
   "execution_count": null,
   "metadata": {},
   "outputs": [],
   "source": [
    "BC_Data = pd.read_csv('Data/BC_Geocoded.csv',index_col='date',parse_dates=['date'])\n",
    "BC_Data_dgf = gpd.GeoDataFrame(BC_Data,\n",
    "    geometry=gpd.points_from_xy(BC_Data.longitude,\n",
    "                                BC_Data.latitude,\n",
    "                                crs=CRS(\"WGS84\")\n",
    "                               ))\n",
    "BC_Data_dgf.plot()"
   ]
  },
  {
   "cell_type": "markdown",
   "metadata": {},
   "source": [
    "## Step 3)\n",
    "\n",
    "Read the Census Subdivision shapefile.  Plot the BC population data to make sure it imported properly.  Zoom and pan to see what regions have the highest populations. \"Uncomment\" the last two lines in this block and re-run to make sure the point layer lines up with the polygon layer.\n",
    "\n",
    "### Question 8)\n",
    "Zoom to a region of interest and take a screenshot, showing both the points and polygon layer and submit it to canvas."
   ]
  },
  {
   "cell_type": "code",
   "execution_count": null,
   "metadata": {},
   "outputs": [],
   "source": [
    "# the .read_file() function reads shapefiles\n",
    "file_name='Data/CensusSubdivisions/SimplyAnalytics_Shapefiles_2021-06-04_04_40_18_c765599d6ce1e70cd26026412f68ed7c.shp'\n",
    "# file_name='Data/CensusDivisions/SimplyAnalytics_Shapefiles_2021-06-04_19_49_41_bee8b66bf9167983003870d045f2acb1.shp'\n",
    "BC_csd = gpd.read_file(file_name)\n",
    "\n",
    "BC_csd = BC_csd.rename(columns={\n",
    "'VALUE0': 'Population, 2016',\n",
    "                    })\n",
    "fig,ax=plt.subplots()\n",
    "BC_csd.plot(ax=ax,column='Population, 2016',cmap = 'Blues',edgecolor='black',legend=True)\n",
    "# BC_Data_dgf.plot(ax=ax,color='r',legend=True,label='Police Involved Deaths')\n",
    "# ax.legend()"
   ]
  },
  {
   "cell_type": "markdown",
   "metadata": {},
   "source": [
    "## Step 4)\n",
    "\n",
    "Loop through each row in the census subdivision layer.  Do a point in polygon vector overlay using the .within() function to find which incidents are in each polygon.  Add the total number of incidents for each subdivision as an attribute.\n",
    "\n",
    "### Question 9)\n",
    "What is the highest number of incidents in a single census subdivision?"
   ]
  },
  {
   "cell_type": "code",
   "execution_count": null,
   "metadata": {},
   "outputs": [],
   "source": [
    "BC_csd['Incidents'] = 0\n",
    "for i,row in BC_csd.iterrows():\n",
    "    pip = BC_Data_dgf.within(row['geometry'])\n",
    "    if pip.sum()>0:\n",
    "        BC_csd.loc[BC_csd.index==i,'Incidents']+=pip.sum()\n",
    "BC_csd.plot(column='Incidents',cmap = 'Reds',edgecolor='black',legend=True)"
   ]
  },
  {
   "cell_type": "markdown",
   "metadata": {},
   "source": [
    "## Step 5)\n",
    "\n",
    "Normalize the data to calculate the police involved death rate.  Divide the number of incidents by the total population.  First do this for the whole province to calculate the provincial average.\n",
    "\n",
    "\n",
    "### Question 10)\n",
    "What is the provincial police involved death rate?\n",
    "<!-- 2.88 -->\n",
    "\n",
    "### Question 11)\n",
    "What does this number mean?\n",
    "<!-- For every million residents in BC, 2.88 people die from a police interaction per year -->"
   ]
  },
  {
   "cell_type": "code",
   "execution_count": null,
   "metadata": {},
   "outputs": [],
   "source": [
    "End_Year = BC_Data_dgf.index.year.max()\n",
    "Start_Year = BC_Data_dgf.index.year.min()\n",
    "Duration = End_Year-Start_Year\n",
    "Unit = 1e6\n",
    "Rate_conversion = Unit/Duration\n",
    "\n",
    "Prov_rate = (BC_csd['Incidents'].sum()/BC_csd['Population, 2016'].sum()*Rate_conversion).round(2)\n",
    "print('Province-Wide Police Involved Death Rate (June ',Start_Year,' - May ',End_Year,')')\n",
    "print('per ', Unit,' Residents per year')\n",
    "print(Prov_rate)"
   ]
  },
  {
   "cell_type": "markdown",
   "metadata": {},
   "source": [
    "## Step 6)\n",
    "\n",
    "Repeat the normalization process for the all census subdivisions.  Then select subdivisions with at least one incident and print the results.\n",
    "\n",
    "### Question 12)\n",
    "What is the general pattern you notice in regards to the relationship between the rate, number of incidents, and total population?  What explains this pattern?"
   ]
  },
  {
   "cell_type": "code",
   "execution_count": null,
   "metadata": {
    "scrolled": false
   },
   "outputs": [],
   "source": [
    "BC_csd['rate']=BC_csd['Incidents']/BC_csd['Population, 2016']*Rate_conversion\n",
    "BC_csd.loc[BC_csd['rate']>0,['name','Population, 2016','Incidents','rate']].sort_values(by='rate')"
   ]
  },
  {
   "cell_type": "markdown",
   "metadata": {},
   "source": [
    "## Step 8)\n",
    "\n",
    "Select all census subdivisions with populations greater than 1000 and at rates >0.  Plot them as a choropleth map.  \n",
    "\n",
    "### Question 12)\n",
    "\n",
    "Change the middle gin value from 10 to 20, then re-run the code block.  Take a screenshot of the map (full scale or zoomed to a specific region) and submit it to canvas."
   ]
  },
  {
   "cell_type": "code",
   "execution_count": null,
   "metadata": {},
   "outputs": [],
   "source": [
    "# Create a webmap centered on BC at zoom level 5 with the default basemap   \n",
    "Map = folium.Map(location=[53, -125],zoom_start=5)\n",
    "\n",
    "BC_csd_select=BC_csd.loc[((BC_csd['rate']>0)&((BC_csd['Population, 2016']>1000)))]\n",
    "BC_csd_select.to_file(\"Data/BC_csd_select.json\", driver = \"GeoJSON\")\n",
    "folium.features.Choropleth('Data/BC_csd_select.json',\n",
    "                           # It will match the geometry data up with a pandas or geopandas dataframe\n",
    "                            data=BC_csd_select,\n",
    "                            columns=['spatial_id','rate'],\n",
    "                           # They key in the GeoJSON file to match by\n",
    "                            key_on='feature.properties.spatial_id',\n",
    "                           # If we define bins, it will split where we tell it to\n",
    "                            bins = [0,1,5,10,50,100],\n",
    "                            fill_color='PuRd',\n",
    "                            fill_opacity = 1,\n",
    "                            smooth=2,\n",
    "                           # The legend label\n",
    "                            legend_name='Population, 2016'\n",
    "                          ).add_to(Map)\n",
    "Map"
   ]
  }
 ],
 "metadata": {
  "kernelspec": {
   "display_name": "geo-env",
   "language": "python",
   "name": "geo-env"
  },
  "language_info": {
   "codemirror_mode": {
    "name": "ipython",
    "version": 3
   },
   "file_extension": ".py",
   "mimetype": "text/x-python",
   "name": "python",
   "nbconvert_exporter": "python",
   "pygments_lexer": "ipython3",
   "version": "3.8.10"
  }
 },
 "nbformat": 4,
 "nbformat_minor": 4
}
