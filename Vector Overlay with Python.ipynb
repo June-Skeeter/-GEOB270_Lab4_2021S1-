{
 "cells": [
  {
   "cell_type": "markdown",
   "metadata": {},
   "source": [
    "## Step 1)\n",
    "\n",
    "Import the necessary packages."
   ]
  },
  {
   "cell_type": "code",
   "execution_count": null,
   "metadata": {
    "scrolled": false
   },
   "outputs": [],
   "source": [
    "# The import command allows us to call on various libraries\n",
    "import folium\n",
    "import numpy as np\n",
    "import pandas as pd\n",
    "import geopandas as gpd\n",
    "import matplotlib.pyplot as plt\n",
    "from pyproj import CRS\n",
    "%matplotlib notebook\n",
    "\n",
    "print('Packages Loaded')"
   ]
  },
  {
   "cell_type": "markdown",
   "metadata": {},
   "source": [
    "## Step 2)\n",
    "\n",
    "Read the data geocoded text file and covert it to a spatial data format.  This step is equivalent to \"display xy data\" in ArcGIS Pro.  Then we can quickly plot the data to make sure it imported properly.  We can also summarize and aggregate the tabular attributes in the data.\n",
    "\n",
    "### Question 7)\n",
    "What does looking at the demographics in this data tell you about police involved deaths in Canada?"
   ]
  },
  {
   "cell_type": "code",
   "execution_count": null,
   "metadata": {},
   "outputs": [],
   "source": [
    "BC_Data = pd.read_csv('Data/BC_Geocoded.csv',index_col='date',parse_dates=['date'])\n",
    "BC_Data_dgf = gpd.GeoDataFrame(BC_Data,\n",
    "    geometry=gpd.points_from_xy(BC_Data.longitude,\n",
    "                                BC_Data.latitude,\n",
    "                                crs=CRS(\"WGS84\")\n",
    "                               ))\n",
    "\n",
    "BC_Data_dgf.plot()\n",
    "print('Demographics of Victims')\n",
    "print(BC_Data_dgf.groupby(['race','gender']).count()['id_victim'].unstack())"
   ]
  },
  {
   "cell_type": "markdown",
   "metadata": {},
   "source": [
    "## Step 3)\n",
    "\n",
    "Read the Census Subdivision shapefile.  Plot the BC population data to make sure it imported properly.  Plot the point data over polygon layer.\n",
    "\n",
    "\n",
    "### Question 8)\n",
    "Zoom to a region of interest and take a screenshot, showing both the points and polygon layer and submit it to canvas."
   ]
  },
  {
   "cell_type": "code",
   "execution_count": null,
   "metadata": {},
   "outputs": [],
   "source": [
    "# the .read_file() function reads shapefiles\n",
    "file_name='Data/CensusSubdivisions/SimplyAnalytics_Shapefiles_2021-06-05_04_38_29_83ea9514aaa369bc53410a64314ff38b.shp'\n",
    "BC_csd = gpd.read_file(file_name)\n",
    "\n",
    "BC_csd = BC_csd.rename(columns={\n",
    "'VALUE0': '% Indigenous Identity',\n",
    "'VALUE1': 'Population, 2016',\n",
    "                    })\n",
    "fig,ax=plt.subplots()\n",
    "BC_csd.plot(ax=ax,column='% Indigenous Identity',cmap = 'Blues',edgecolor='black',legend=True)\n",
    "BC_Data_dgf.plot(ax=ax,color='r',legend=True,label='Police Involved Deaths')\n",
    "ax.legend()"
   ]
  },
  {
   "cell_type": "markdown",
   "metadata": {},
   "source": [
    "## Step 4)\n",
    "\n",
    "Loop through each row in the census subdivision layer.  Do a point in polygon vector overlay using the .within() function to find which incidents are in each polygon.  Add the total number of incidents for each subdivision as an attribute.\n",
    "\n",
    "Because the demographic information in the police-involved death dataset is missing a number of key descriptors, it will be more effective to overlay the point data with census data and infer relationships based on the demographics of the census subdivisions.\n",
    "\n",
    "### Question 9)\n",
    "What is the highest number of incidents in a single census subdivision?"
   ]
  },
  {
   "cell_type": "code",
   "execution_count": null,
   "metadata": {},
   "outputs": [],
   "source": [
    "BC_csd['Incidents'] = 0\n",
    "for i,row in BC_csd.iterrows():\n",
    "    pip = BC_Data_dgf.within(row['geometry'])\n",
    "    if pip.sum()>0:\n",
    "        BC_csd.loc[BC_csd.index==i,'Incidents']+=pip.sum()\n",
    "BC_csd.plot(column='Incidents',cmap = 'Reds',edgecolor='black',legend=True)"
   ]
  },
  {
   "cell_type": "markdown",
   "metadata": {},
   "source": [
    "## Step 5)\n",
    "\n",
    "Normalize the data to calculate the police involved death rate.  Divide the number of incidents by the total population.  First do this for the whole province to calculate the provincial average.\n",
    "\n",
    "\n",
    "### Question 10)\n",
    "What is the provincial police involved death rate?\n",
    "<!-- 2.88 -->\n",
    "\n",
    "### Question 11)\n",
    "What does this number mean?\n",
    "<!-- For every million residents in BC, 2.88 people die from a police interaction per year -->"
   ]
  },
  {
   "cell_type": "code",
   "execution_count": null,
   "metadata": {},
   "outputs": [],
   "source": [
    "End_Year = BC_Data_dgf.index.year.max()\n",
    "Start_Year = BC_Data_dgf.index.year.min()\n",
    "Duration = End_Year-Start_Year\n",
    "Unit = 1e6\n",
    "Rate_conversion = Unit/Duration\n",
    "\n",
    "Prov_rate = (BC_csd['Incidents'].sum()/BC_csd['Population, 2016'].sum()*Rate_conversion).round(2)\n",
    "print('Province-Wide Police Involved Death Rate (June ',Start_Year,' - May ',End_Year,')')\n",
    "print('per ', Unit,' Residents per year')\n",
    "print(Prov_rate)"
   ]
  },
  {
   "cell_type": "markdown",
   "metadata": {},
   "source": [
    "## Step 6)\n",
    "\n",
    "Repeat the normalization process for the all census subdivisions.  Then select subdivisions with at least one incident and print the results.\n",
    "\n",
    "\n",
    "### Question 12)\n",
    "What is the general pattern you notice in regards to the relationship between the rate, number of incidents, and total population?  What explains this pattern?"
   ]
  },
  {
   "cell_type": "code",
   "execution_count": null,
   "metadata": {
    "scrolled": false
   },
   "outputs": [],
   "source": [
    "BC_csd['PID_rate']=BC_csd['Incidents']/BC_csd['Population, 2016']*Rate_conversion\n",
    "BC_csd_select = BC_csd.loc[BC_csd['PID_rate']>0]\n",
    "BC_csd_select[['name','Population, 2016','Incidents','PID_rate','% Indigenous Identity']].sort_values(by='PID_rate')"
   ]
  },
  {
   "cell_type": "markdown",
   "metadata": {},
   "source": [
    "## Step 7)\n",
    "\n",
    "Select just the subdivisions with at least 5,000 residents and plot the relationship between % Indigenous Identity and the Police-Involved Death Rate.  Fix the title so it says the correct years (2011-2021).  Then download the plot and submit it to canvas.  \n",
    "<a href=\"Content/Download.mp4\" target=\"_blank\">See this video instructions for help downloading the plot</a>\n",
    "\n",
    "\n",
    "Notice the outlier on the plot.  The value in Kent, BC (CSD) is more than double the next highest value. That is because the data from the Georgia Straight includes dearths in prison, and there is a prison in Agassiz, which is in this CSC.\n",
    "\n",
    "### Question 13)\n",
    "\n",
    "Submit the plot to canvas."
   ]
  },
  {
   "cell_type": "code",
   "execution_count": null,
   "metadata": {},
   "outputs": [],
   "source": [
    "plt.figure()\n",
    "BC_csd_select=BC_csd_select.loc[(BC_csd_select['Population, 2016']>5000)]\n",
    "legend_entry='Census Subdivision'\n",
    "plt.scatter(BC_csd_select['% Indigenous Identity'],BC_csd_select['PID_rate'],label=legend_entry)\n",
    "plt.xlabel('% Indigenous Identity')\n",
    "plt.ylabel('Death Rate / million / year')\n",
    "plt.title('Police-Involved Deaths BC (2016-2021)')\n",
    "plt.legend()\n",
    "plt.savefig('Scatterplot_Indidents_Indigenous_Identity.png')"
   ]
  },
  {
   "cell_type": "markdown",
   "metadata": {},
   "source": [
    "## Step 8)\n",
    "\n",
    "Plot the selection as a choropleth map.  \n",
    "\n",
    "### Question 14)\n",
    "\n",
    "After going through this lab, what is your impression about how working with Python to do GIS compares too ArcGIS Pro?  Why might an open source GIS option (like Python) be a good choice for an organization/individual with limited resources?"
   ]
  },
  {
   "cell_type": "code",
   "execution_count": null,
   "metadata": {},
   "outputs": [],
   "source": [
    "# Create a webmap centered on BC at zoom level 5 with the default basemap   \n",
    "Map = folium.Map(location=[52, -125],zoom_start=6)\n",
    "BC_csd_select.to_file(\"Data/BC_csd_select.json\", driver = \"GeoJSON\")\n",
    "folium.features.Choropleth('Data/BC_csd_select.json',\n",
    "                           # It will match the geometry data up with a pandas or geopandas dataframe\n",
    "                            data=BC_csd_select,\n",
    "                            columns=['spatial_id','PID_rate'],\n",
    "                           # They key in the GeoJSON file to match by\n",
    "                            key_on='feature.properties.spatial_id',\n",
    "                            bins = [0,1,10,25,50,83],\n",
    "                            fill_color='PuRd',\n",
    "                            fill_opacity = 1,\n",
    "                            smooth=2,\n",
    "                           # The legend label\n",
    "                            legend_name='Population, 2016'\n",
    "                          ).add_to(Map)\n",
    "Map"
   ]
  },
  {
   "cell_type": "code",
   "execution_count": null,
   "metadata": {},
   "outputs": [],
   "source": []
  }
 ],
 "metadata": {
  "kernelspec": {
   "display_name": "geo-env",
   "language": "python",
   "name": "geo-env"
  },
  "language_info": {
   "codemirror_mode": {
    "name": "ipython",
    "version": 3
   },
   "file_extension": ".py",
   "mimetype": "text/x-python",
   "name": "python",
   "nbconvert_exporter": "python",
   "pygments_lexer": "ipython3",
   "version": "3.8.10"
  }
 },
 "nbformat": 4,
 "nbformat_minor": 4
}
